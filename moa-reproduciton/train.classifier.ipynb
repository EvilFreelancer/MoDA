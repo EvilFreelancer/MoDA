{
 "cells": [
  {
   "metadata": {},
   "cell_type": "code",
   "source": [
    "from datasets import load_dataset\n",
    "\n",
    "train_file = \"./cache/unified_train.jsonl\"\n",
    "eval_file = \"./cache/unified_eval.jsonl\"\n",
    "\n",
    "dataset_train = load_dataset(\"json\", split=\"train\", data_files=train_file)\n",
    "dataset_eval = load_dataset(\"json\", split=\"train\", data_files=eval_file)\n",
    "\n",
    "print([dataset_train.num_rows, dataset_eval.num_rows])"
   ],
   "id": "bf30fc083b375645",
   "outputs": [],
   "execution_count": null
  },
  {
   "metadata": {},
   "cell_type": "code",
   "source": "dataset_train[0]",
   "id": "c3dae0f8d0f1bd6d",
   "outputs": [],
   "execution_count": null
  },
  {
   "metadata": {},
   "cell_type": "code",
   "source": [
    "from transformers import RobertaTokenizer\n",
    "\n",
    "tokenizer = RobertaTokenizer.from_pretrained(\"roberta-base\", force_download=False)\n",
    "\n",
    "\n",
    "def encode_batch(batch):\n",
    "    \"\"\"Encodes a batch of input data using the model tokenizer.\"\"\"\n",
    "    return tokenizer(batch[\"text\"], max_length=512, truncation=True, padding=\"max_length\")\n",
    "\n",
    "\n",
    "dataset_train = dataset_train.map(encode_batch, batched=True)\n",
    "# dataset_train = dataset_train.rename_column(\"label\", \"labels\")\n",
    "dataset_train.set_format(type=\"torch\", columns=[\"input_ids\", \"attention_mask\", \"labels\"])\n",
    "\n",
    "dataset_eval = dataset_eval.map(encode_batch, batched=True)\n",
    "# dataset_eval = dataset_eval.rename_column(\"label\", \"labels\")\n",
    "dataset_eval.set_format(type=\"torch\", columns=[\"input_ids\", \"attention_mask\", \"labels\"])"
   ],
   "id": "f1af3508bb7e094f",
   "outputs": [],
   "execution_count": null
  },
  {
   "metadata": {},
   "cell_type": "code",
   "source": [
    "from adapters import AutoAdapterModel\n",
    "from transformers import AutoConfig\n",
    "\n",
    "config = AutoConfig.from_pretrained(\"roberta-base\", num_labels=8, force_download=False)\n",
    "model = AutoAdapterModel.from_pretrained(\"roberta-base\", config=config, force_download=False)"
   ],
   "id": "2ea23eca0cf5ec83",
   "outputs": [],
   "execution_count": null
  },
  {
   "metadata": {},
   "cell_type": "code",
   "source": [
    "# Add a new adapter\n",
    "model.add_adapter(\"moa_classifier\")\n",
    "# Add a matching classification head\n",
    "model.add_classification_head(\n",
    "    \"moa_classifier\",\n",
    "    num_labels=8,\n",
    "    id2label={\n",
    "        0: \"finance\",\n",
    "        1: \"medicine\",\n",
    "        2: \"leetcode\",\n",
    "        3: \"exam\",\n",
    "        4: \"webgpt\",\n",
    "        5: \"gpt4tools\",\n",
    "        6: \"cot\",\n",
    "        7: \"stackoverflow\",\n",
    "    }\n",
    ")\n",
    "# Activate the adapter\n",
    "model.train_adapter(\"moa_classifier\")"
   ],
   "id": "8c706049d1be31e7",
   "outputs": [],
   "execution_count": null
  },
  {
   "metadata": {},
   "cell_type": "code",
   "source": [
    "import numpy as np\n",
    "from adapters import AdapterTrainer\n",
    "from transformers import TrainingArguments, EvalPrediction\n",
    "\n",
    "training_args = TrainingArguments(\n",
    "    learning_rate=1e-4,\n",
    "    num_train_epochs=2,\n",
    "    per_device_train_batch_size=32,\n",
    "    per_device_eval_batch_size=8,\n",
    "    logging_steps=100,\n",
    "    output_dir=\"./training_output\",\n",
    "    overwrite_output_dir=True,\n",
    "    # The next line is important to ensure the dataset labels are properly passed to the model\n",
    "    remove_unused_columns=False,\n",
    ")\n",
    "\n",
    "\n",
    "def compute_accuracy(p: EvalPrediction):\n",
    "    preds = np.argmax(p.predictions, axis=1)\n",
    "    return {\"acc\": (preds == p.label_ids).mean()}\n",
    "\n",
    "\n",
    "trainer = AdapterTrainer(\n",
    "    model=model,\n",
    "    args=training_args,\n",
    "    train_dataset=dataset_train,\n",
    "    eval_dataset=dataset_eval,\n",
    "    compute_metrics=compute_accuracy,\n",
    ")"
   ],
   "id": "bae73bbc4aae8c4a",
   "outputs": [],
   "execution_count": null
  },
  {
   "metadata": {},
   "cell_type": "code",
   "source": [
    "trainer.train()\n",
    "model.save_adapter(\"./final_adapter\", \"moa_classifier\")"
   ],
   "id": "9ac0f20de1859160",
   "outputs": [],
   "execution_count": null
  },
  {
   "metadata": {},
   "cell_type": "code",
   "source": "trainer.evaluate()",
   "id": "e894cc9cf6ddbec8",
   "outputs": [],
   "execution_count": null
  },
  {
   "metadata": {},
   "cell_type": "code",
   "source": [
    "from transformers import TextClassificationPipeline\n",
    "\n",
    "classifier = TextClassificationPipeline(model=model, tokenizer=tokenizer, device=training_args.device.index)\n",
    "\n",
    "classifier(\"What are the tax rates in Russia?\")"
   ],
   "id": "e623736894716667",
   "outputs": [],
   "execution_count": null
  }
 ],
 "metadata": {
  "kernelspec": {
   "display_name": "Python 3",
   "language": "python",
   "name": "python3"
  },
  "language_info": {
   "codemirror_mode": {
    "name": "ipython",
    "version": 2
   },
   "file_extension": ".py",
   "mimetype": "text/x-python",
   "name": "python",
   "nbconvert_exporter": "python",
   "pygments_lexer": "ipython2",
   "version": "2.7.6"
  }
 },
 "nbformat": 4,
 "nbformat_minor": 5
}
