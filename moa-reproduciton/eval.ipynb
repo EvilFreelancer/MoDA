{
 "cells": [
  {
   "metadata": {
    "ExecuteTime": {
     "end_time": "2024-06-13T20:56:40.658253Z",
     "start_time": "2024-06-13T20:56:39.159891Z"
    }
   },
   "cell_type": "code",
   "source": [
    "import torch\n",
    "from adapters import AutoAdapterModel\n",
    "from transformers import AutoTokenizer\n",
    "\n",
    "device = torch.device(\"cuda\" if torch.cuda.is_available() else \"cpu\")\n",
    "tokenizer = AutoTokenizer.from_pretrained(\"roberta-base\")\n",
    "model = AutoAdapterModel.from_pretrained(\"roberta-base\").to(device)"
   ],
   "id": "5f11fd755bf209ab",
   "outputs": [
    {
     "name": "stderr",
     "output_type": "stream",
     "text": [
      "Some weights of RobertaAdapterModel were not initialized from the model checkpoint at roberta-base and are newly initialized: ['heads.default.3.bias', 'roberta.pooler.dense.bias', 'roberta.pooler.dense.weight']\n",
      "You should probably TRAIN this model on a down-stream task to be able to use it for predictions and inference.\n"
     ]
    }
   ],
   "execution_count": 16
  },
  {
   "metadata": {
    "ExecuteTime": {
     "end_time": "2024-06-13T20:56:40.683454Z",
     "start_time": "2024-06-13T20:56:40.659042Z"
    }
   },
   "cell_type": "code",
   "source": [
    "adapter_name = model.load_adapter(\"./final_adapter\", set_active=True)\n",
    "model.set_active_adapters(adapter_name)"
   ],
   "id": "c295df4e47f955c6",
   "outputs": [],
   "execution_count": 17
  },
  {
   "metadata": {
    "ExecuteTime": {
     "end_time": "2024-06-13T20:56:40.706918Z",
     "start_time": "2024-06-13T20:56:40.684021Z"
    }
   },
   "cell_type": "code",
   "source": [
    "from transformers import TextClassificationPipeline\n",
    "\n",
    "classifier = TextClassificationPipeline(model=model, tokenizer=tokenizer, device=device)\n",
    "\n",
    "classifier(\"What are the tax rates in Russia?\")"
   ],
   "id": "e923c27d65d09129",
   "outputs": [
    {
     "name": "stderr",
     "output_type": "stream",
     "text": [
      "The model 'RobertaAdapterModel' is not supported for . Supported models are ['AlbertForSequenceClassification', 'BartForSequenceClassification', 'BertForSequenceClassification', 'BigBirdForSequenceClassification', 'BigBirdPegasusForSequenceClassification', 'BioGptForSequenceClassification', 'BloomForSequenceClassification', 'CamembertForSequenceClassification', 'CanineForSequenceClassification', 'LlamaForSequenceClassification', 'ConvBertForSequenceClassification', 'CTRLForSequenceClassification', 'Data2VecTextForSequenceClassification', 'DebertaForSequenceClassification', 'DebertaV2ForSequenceClassification', 'DistilBertForSequenceClassification', 'ElectraForSequenceClassification', 'ErnieForSequenceClassification', 'ErnieMForSequenceClassification', 'EsmForSequenceClassification', 'FalconForSequenceClassification', 'FlaubertForSequenceClassification', 'FNetForSequenceClassification', 'FunnelForSequenceClassification', 'GemmaForSequenceClassification', 'GPT2ForSequenceClassification', 'GPT2ForSequenceClassification', 'GPTBigCodeForSequenceClassification', 'GPTNeoForSequenceClassification', 'GPTNeoXForSequenceClassification', 'GPTJForSequenceClassification', 'IBertForSequenceClassification', 'LayoutLMForSequenceClassification', 'LayoutLMv2ForSequenceClassification', 'LayoutLMv3ForSequenceClassification', 'LEDForSequenceClassification', 'LiltForSequenceClassification', 'LlamaForSequenceClassification', 'LongformerForSequenceClassification', 'LukeForSequenceClassification', 'MarkupLMForSequenceClassification', 'MBartForSequenceClassification', 'MegaForSequenceClassification', 'MegatronBertForSequenceClassification', 'MistralForSequenceClassification', 'MixtralForSequenceClassification', 'MobileBertForSequenceClassification', 'MPNetForSequenceClassification', 'MptForSequenceClassification', 'MraForSequenceClassification', 'MT5ForSequenceClassification', 'MvpForSequenceClassification', 'NezhaForSequenceClassification', 'NystromformerForSequenceClassification', 'OpenLlamaForSequenceClassification', 'OpenAIGPTForSequenceClassification', 'OPTForSequenceClassification', 'PerceiverForSequenceClassification', 'PersimmonForSequenceClassification', 'PhiForSequenceClassification', 'PLBartForSequenceClassification', 'QDQBertForSequenceClassification', 'Qwen2ForSequenceClassification', 'ReformerForSequenceClassification', 'RemBertForSequenceClassification', 'RobertaForSequenceClassification', 'RobertaPreLayerNormForSequenceClassification', 'RoCBertForSequenceClassification', 'RoFormerForSequenceClassification', 'SqueezeBertForSequenceClassification', 'StableLmForSequenceClassification', 'Starcoder2ForSequenceClassification', 'T5ForSequenceClassification', 'TapasForSequenceClassification', 'TransfoXLForSequenceClassification', 'UMT5ForSequenceClassification', 'XLMForSequenceClassification', 'XLMRobertaForSequenceClassification', 'XLMRobertaXLForSequenceClassification', 'XLNetForSequenceClassification', 'XmodForSequenceClassification', 'YosoForSequenceClassification'].\n"
     ]
    },
    {
     "data": {
      "text/plain": [
       "[{'label': 'finance', 'score': 0.9885320663452148}]"
      ]
     },
     "execution_count": 18,
     "metadata": {},
     "output_type": "execute_result"
    }
   ],
   "execution_count": 18
  },
  {
   "metadata": {
    "ExecuteTime": {
     "end_time": "2024-06-13T20:56:41.304609Z",
     "start_time": "2024-06-13T20:56:40.707564Z"
    }
   },
   "cell_type": "code",
   "source": [
    "from datasets import load_dataset\n",
    "\n",
    "id2label = {\n",
    "    0: \"finance\",\n",
    "    1: \"medicine\",\n",
    "    2: \"leetcode\",\n",
    "    3: \"exam\",\n",
    "    4: \"webgpt\",\n",
    "    5: \"gpt4tools\",\n",
    "    6: \"cot\",\n",
    "    7: \"stackoverflow\",\n",
    "}\n",
    "\n",
    "eval_file = \"./cache/unified_eval.jsonl\"\n",
    "dataset_eval = load_dataset(\"json\", split=\"train\", data_files=eval_file)\n",
    "labels = dataset_eval.unique(\"labels\")\n",
    "domains = [id2label[label] for label in labels]\n",
    "domains"
   ],
   "id": "initial_id",
   "outputs": [
    {
     "data": {
      "text/plain": [
       "['finance',\n",
       " 'medicine',\n",
       " 'leetcode',\n",
       " 'exam',\n",
       " 'webgpt',\n",
       " 'gpt4tools',\n",
       " 'cot',\n",
       " 'stackoverflow']"
      ]
     },
     "execution_count": 19,
     "metadata": {},
     "output_type": "execute_result"
    }
   ],
   "execution_count": 19
  },
  {
   "metadata": {
    "ExecuteTime": {
     "end_time": "2024-06-13T21:08:40.483282Z",
     "start_time": "2024-06-13T21:05:33.519544Z"
    }
   },
   "cell_type": "code",
   "source": [
    "import pandas as pd\n",
    "\n",
    "# Initialize results storage\n",
    "results = []\n",
    "\n",
    "# Evaluate the classifier on each domain\n",
    "for label in labels:\n",
    "    domain = id2label[label]\n",
    "    domain_dataset = dataset_eval.filter(lambda x: x['labels'] == label)\n",
    "    domain_size = len(domain_dataset)\n",
    "    \n",
    "    correct_classifications = 0\n",
    "    for record in domain_dataset:\n",
    "        prediction = classifier(record[\"text\"], truncation=True, max_length=512)[0][\"label\"]\n",
    "        if prediction.lower() == domain:\n",
    "            correct_classifications += 1\n",
    "\n",
    "    classifier_accuracy = correct_classifications / domain_size * 100\n",
    "\n",
    "    # Add results to the list\n",
    "    results.append({\n",
    "        \"Domain\": domain.upper(),\n",
    "        \"test size\": domain_size,\n",
    "        \"Classifier\": f\"{classifier_accuracy:.2f}%\",\n",
    "        \"Router\": \"N/A\"  # Placeholder as Router results are not provided\n",
    "    })\n",
    "\n",
    "# Calculate average\n",
    "average_size = sum([result[\"test size\"] for result in results]) / len(results)\n",
    "average_classifier_accuracy = sum(\n",
    "    [float(result[\"Classifier\"].strip('%')) for result in results]\n",
    ") / len(results)\n",
    "\n",
    "# Add the average row\n",
    "results.append({\n",
    "    \"Domain\": \"Average\",\n",
    "    \"test size\": average_size,\n",
    "    \"Classifier\": f\"{average_classifier_accuracy:.2f}%\",\n",
    "    \"Router\": \"N/A\"  # Placeholder as Router results are not provided\n",
    "})\n",
    "\n",
    "# Convert to DataFrame\n",
    "results_df = pd.DataFrame(results)\n",
    "\n",
    "# Display the table\n",
    "print(results_df)\n",
    "\n",
    "# Save to CSV\n",
    "results_df.to_csv(\"./evaluation_results.csv\", index=False)"
   ],
   "id": "347471c9ee403ec5",
   "outputs": [
    {
     "name": "stdout",
     "output_type": "stream",
     "text": [
      "          Domain  test size Classifier Router\n",
      "0        FINANCE     2000.0     99.20%    N/A\n",
      "1       MEDICINE     2000.0     99.80%    N/A\n",
      "2       LEETCODE     2000.0    100.00%    N/A\n",
      "3           EXAM     2000.0    100.00%    N/A\n",
      "4         WEBGPT     2000.0     97.80%    N/A\n",
      "5      GPT4TOOLS     2000.0    100.00%    N/A\n",
      "6            COT     2000.0    100.00%    N/A\n",
      "7  STACKOVERFLOW     4000.0    100.00%    N/A\n",
      "8        Average     2250.0     99.60%    N/A\n"
     ]
    }
   ],
   "execution_count": 22
  }
 ],
 "metadata": {
  "kernelspec": {
   "display_name": "Python 3",
   "language": "python",
   "name": "python3"
  },
  "language_info": {
   "codemirror_mode": {
    "name": "ipython",
    "version": 2
   },
   "file_extension": ".py",
   "mimetype": "text/x-python",
   "name": "python",
   "nbconvert_exporter": "python",
   "pygments_lexer": "ipython2",
   "version": "2.7.6"
  }
 },
 "nbformat": 4,
 "nbformat_minor": 5
}
