{
 "cells": [
  {
   "metadata": {
    "ExecuteTime": {
     "end_time": "2024-06-14T22:10:52.380543Z",
     "start_time": "2024-06-14T22:10:49.459485Z"
    }
   },
   "cell_type": "code",
   "source": [
    "import torch\n",
    "from adapters import AutoAdapterModel\n",
    "from transformers import AutoTokenizer\n",
    "\n",
    "device = torch.device(\"cuda\" if torch.cuda.is_available() else \"cpu\")\n",
    "tokenizer = AutoTokenizer.from_pretrained(\"roberta-base\")\n",
    "model = AutoAdapterModel.from_pretrained(\"roberta-base\").to(device)"
   ],
   "id": "5f11fd755bf209ab",
   "execution_count": 1,
   "outputs": []
  },
  {
   "metadata": {
    "ExecuteTime": {
     "end_time": "2024-06-14T22:10:52.404097Z",
     "start_time": "2024-06-14T22:10:52.381391Z"
    }
   },
   "cell_type": "code",
   "source": [
    "adapter_name = model.load_adapter(\"./final_adapter\", set_active=True)\n",
    "model.set_active_adapters(adapter_name)"
   ],
   "id": "c295df4e47f955c6",
   "execution_count": 2,
   "outputs": []
  },
  {
   "metadata": {
    "ExecuteTime": {
     "end_time": "2024-06-14T22:10:52.503583Z",
     "start_time": "2024-06-14T22:10:52.404588Z"
    }
   },
   "cell_type": "code",
   "source": [
    "from transformers import TextClassificationPipeline\n",
    "\n",
    "classifier = TextClassificationPipeline(model=model, tokenizer=tokenizer, device=device)\n",
    "\n",
    "classifier(\"What are the tax rates in Russia?\")"
   ],
   "id": "e923c27d65d09129",
   "execution_count": 3,
   "outputs": []
  },
  {
   "metadata": {
    "ExecuteTime": {
     "end_time": "2024-06-14T22:10:53.340591Z",
     "start_time": "2024-06-14T22:10:52.504424Z"
    }
   },
   "cell_type": "code",
   "source": [
    "from datasets import load_dataset\n",
    "\n",
    "id2label = {\n",
    "    0: \"finance\",\n",
    "    1: \"medicine\",\n",
    "    2: \"leetcode\",\n",
    "    3: \"exam\",\n",
    "    4: \"webgpt\",\n",
    "    5: \"gpt4tools\",\n",
    "    6: \"cot\",\n",
    "    7: \"stackoverflow\",\n",
    "}\n",
    "\n",
    "# id2label = {\n",
    "#     0: \"finance\",\n",
    "#     1: \"medicine\",\n",
    "#     2: \"cot\",\n",
    "#     3: \"stackoverflow\",\n",
    "# }\n",
    "\n",
    "eval_file = \"./cache/unified_eval.jsonl\"\n",
    "dataset_eval = load_dataset(\"json\", split=\"train\", data_files=eval_file)\n",
    "labels = dataset_eval.unique(\"labels\")\n",
    "domains = [id2label[label] for label in labels]\n",
    "domains"
   ],
   "id": "initial_id",
   "execution_count": 4,
   "outputs": []
  },
  {
   "metadata": {
    "ExecuteTime": {
     "end_time": "2024-06-14T22:13:38.929605Z",
     "start_time": "2024-06-14T22:10:53.341380Z"
    }
   },
   "cell_type": "code",
   "source": [
    "import pandas as pd\n",
    "from datasets import tqdm as hf_tqdm\n",
    "\n",
    "# Initialize results storage\n",
    "results = []\n",
    "\n",
    "# Evaluate the classifier on each domain\n",
    "for label in hf_tqdm(labels):\n",
    "    domain = id2label[label]\n",
    "    domain_dataset = dataset_eval.filter(lambda x: x['labels'] == label)\n",
    "    domain_size = len(domain_dataset)\n",
    "    \n",
    "    correct_classifications = 0\n",
    "    for record in hf_tqdm(domain_dataset):\n",
    "        prediction = classifier(record[\"text\"], truncation=True, max_length=512)[0][\"label\"]\n",
    "        if prediction.lower() == domain:\n",
    "            correct_classifications += 1\n",
    "\n",
    "    classifier_accuracy = correct_classifications / domain_size * 100\n",
    "\n",
    "    # Add results to the list\n",
    "    results.append({\n",
    "        \"Domain\": domain.upper(),\n",
    "        \"test size\": domain_size,\n",
    "        \"Classifier\": f\"{classifier_accuracy:.2f}%\",\n",
    "        \"Router\": \"N/A\"  # Placeholder as Router results are not provided\n",
    "    })\n",
    "\n",
    "# Calculate average\n",
    "average_size = sum([result[\"test size\"] for result in results]) / len(results)\n",
    "average_classifier_accuracy = sum(\n",
    "    [float(result[\"Classifier\"].strip('%')) for result in results]\n",
    ") / len(results)\n",
    "\n",
    "# Add the average row\n",
    "results.append({\n",
    "    \"Domain\": \"Average\",\n",
    "    \"test size\": average_size,\n",
    "    \"Classifier\": f\"{average_classifier_accuracy:.2f}%\",\n",
    "    \"Router\": \"N/A\"  # Placeholder as Router results are not provided\n",
    "})\n",
    "\n",
    "# Convert to DataFrame\n",
    "results_df = pd.DataFrame(results)\n",
    "\n",
    "# Display the table\n",
    "print(results_df)\n",
    "\n",
    "# Save to CSV\n",
    "results_df.to_csv(\"./evaluation_results.csv\", index=False)"
   ],
   "id": "347471c9ee403ec5",
   "execution_count": 5,
   "outputs": []
  }
 ],
 "metadata": {
  "kernelspec": {
   "display_name": "Python 3",
   "language": "python",
   "name": "python3"
  },
  "language_info": {
   "codemirror_mode": {
    "name": "ipython",
    "version": 2
   },
   "file_extension": ".py",
   "mimetype": "text/x-python",
   "name": "python",
   "nbconvert_exporter": "python",
   "pygments_lexer": "ipython2",
   "version": "2.7.6"
  }
 },
 "nbformat": 4,
 "nbformat_minor": 5
}
