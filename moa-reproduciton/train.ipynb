{
 "cells": [
  {
   "metadata": {
    "ExecuteTime": {
     "end_time": "2024-06-13T19:12:29.986916Z",
     "start_time": "2024-06-13T19:12:29.017944Z"
    }
   },
   "cell_type": "code",
   "source": [
    "from datasets import load_dataset\n",
    "\n",
    "train_file = \"./cache/unified_train.jsonl\"\n",
    "eval_file = \"./cache/unified_eval.jsonl\"\n",
    "\n",
    "dataset_train = load_dataset(\"json\", split=\"train\", data_files=train_file)\n",
    "dataset_eval = load_dataset(\"json\", split=\"train\", data_files=eval_file)\n",
    "\n",
    "print([dataset_train.num_rows, dataset_eval.num_rows])"
   ],
   "id": "bf30fc083b375645",
   "outputs": [
    {
     "name": "stdout",
     "output_type": "stream",
     "text": [
      "[79998, 18000]\n"
     ]
    }
   ],
   "execution_count": 8
  },
  {
   "metadata": {
    "ExecuteTime": {
     "end_time": "2024-06-13T19:12:29.990931Z",
     "start_time": "2024-06-13T19:12:29.987892Z"
    }
   },
   "cell_type": "code",
   "source": "dataset_train[0]",
   "id": "c3dae0f8d0f1bd6d",
   "outputs": [
    {
     "data": {
      "text/plain": [
       "{'labels': 0,\n",
       " 'text': 'For a car, what scams can be plotted with 0% financing vs rebate?'}"
      ]
     },
     "execution_count": 9,
     "metadata": {},
     "output_type": "execute_result"
    }
   ],
   "execution_count": 9
  },
  {
   "metadata": {
    "ExecuteTime": {
     "end_time": "2024-06-13T19:12:31.085987Z",
     "start_time": "2024-06-13T19:12:29.991475Z"
    }
   },
   "cell_type": "code",
   "source": [
    "from transformers import RobertaTokenizer\n",
    "\n",
    "tokenizer = RobertaTokenizer.from_pretrained(\"roberta-base\", force_download=False)\n",
    "\n",
    "\n",
    "def encode_batch(batch):\n",
    "    \"\"\"Encodes a batch of input data using the model tokenizer.\"\"\"\n",
    "    return tokenizer(batch[\"text\"], max_length=512, truncation=True, padding=\"max_length\")\n",
    "\n",
    "\n",
    "dataset_train = dataset_train.map(encode_batch, batched=True)\n",
    "# dataset_train = dataset_train.rename_column(\"label\", \"labels\")\n",
    "dataset_train.set_format(type=\"torch\", columns=[\"input_ids\", \"attention_mask\", \"labels\"])\n",
    "\n",
    "dataset_eval = dataset_eval.map(encode_batch, batched=True)\n",
    "# dataset_eval = dataset_eval.rename_column(\"label\", \"labels\")\n",
    "dataset_eval.set_format(type=\"torch\", columns=[\"input_ids\", \"attention_mask\", \"labels\"])"
   ],
   "id": "f1af3508bb7e094f",
   "outputs": [
    {
     "name": "stderr",
     "output_type": "stream",
     "text": [
      "/home/pasha/Documents/Repository/gpt/MoDA/moa-reproduciton/venv/lib/python3.11/site-packages/huggingface_hub/file_download.py:1132: FutureWarning: `resume_download` is deprecated and will be removed in version 1.0.0. Downloads always resume when possible. If you want to force a new download, use `force_download=True`.\n",
      "  warnings.warn(\n"
     ]
    }
   ],
   "execution_count": 10
  },
  {
   "metadata": {
    "ExecuteTime": {
     "end_time": "2024-06-13T19:12:32.170299Z",
     "start_time": "2024-06-13T19:12:31.087117Z"
    }
   },
   "cell_type": "code",
   "source": [
    "from adapters import AutoAdapterModel\n",
    "from transformers import AutoTokenizer\n",
    "\n",
    "config = AutoTokenizer.from_pretrained(\"roberta-base\", num_labels=8, force_download=False)\n",
    "model = AutoAdapterModel.from_pretrained(\"roberta-base\", config=config, force_download=False)"
   ],
   "id": "2ea23eca0cf5ec83",
   "outputs": [
    {
     "name": "stderr",
     "output_type": "stream",
     "text": [
      "Some weights of RobertaAdapterModel were not initialized from the model checkpoint at roberta-base and are newly initialized: ['heads.default.3.bias', 'roberta.pooler.dense.bias', 'roberta.pooler.dense.weight']\n",
      "You should probably TRAIN this model on a down-stream task to be able to use it for predictions and inference.\n"
     ]
    }
   ],
   "execution_count": 11
  },
  {
   "metadata": {
    "ExecuteTime": {
     "end_time": "2024-06-13T19:12:32.189650Z",
     "start_time": "2024-06-13T19:12:32.171136Z"
    }
   },
   "cell_type": "code",
   "source": [
    "# Add a new adapter\n",
    "model.add_adapter(\"moa_classifier\")\n",
    "# Add a matching classification head\n",
    "model.add_classification_head(\n",
    "    \"moa_classifier\",\n",
    "    num_labels=8,\n",
    "    id2label={\n",
    "        0: \"finance\",\n",
    "        1: \"medicine\",\n",
    "        2: \"leetcode\",\n",
    "        3: \"exam\",\n",
    "        4: \"webgpt\",\n",
    "        5: \"gpt4tools\",\n",
    "        6: \"cot\",\n",
    "        7: \"stackoverflow\",\n",
    "    }\n",
    ")\n",
    "# Activate the adapter\n",
    "model.train_adapter(\"moa_classifier\")"
   ],
   "id": "8c706049d1be31e7",
   "outputs": [],
   "execution_count": 12
  },
  {
   "metadata": {
    "ExecuteTime": {
     "end_time": "2024-06-13T19:12:32.284042Z",
     "start_time": "2024-06-13T19:12:32.190313Z"
    }
   },
   "cell_type": "code",
   "source": [
    "import numpy as np\n",
    "from adapters import AdapterTrainer\n",
    "from transformers import TrainingArguments, EvalPrediction\n",
    "\n",
    "training_args = TrainingArguments(\n",
    "    learning_rate=1e-4,\n",
    "    num_train_epochs=2,\n",
    "    per_device_train_batch_size=32,\n",
    "    per_device_eval_batch_size=8,\n",
    "    logging_steps=100,\n",
    "    output_dir=\"./training_output\",\n",
    "    overwrite_output_dir=True,\n",
    "    # The next line is important to ensure the dataset labels are properly passed to the model\n",
    "    remove_unused_columns=False,\n",
    ")\n",
    "\n",
    "\n",
    "def compute_accuracy(p: EvalPrediction):\n",
    "    preds = np.argmax(p.predictions, axis=1)\n",
    "    return {\"acc\": (preds == p.label_ids).mean()}\n",
    "\n",
    "\n",
    "trainer = AdapterTrainer(\n",
    "    model=model,\n",
    "    args=training_args,\n",
    "    train_dataset=dataset_train,\n",
    "    eval_dataset=dataset_eval,\n",
    "    compute_metrics=compute_accuracy,\n",
    ")"
   ],
   "id": "bae73bbc4aae8c4a",
   "outputs": [
    {
     "name": "stderr",
     "output_type": "stream",
     "text": [
      "/home/pasha/Documents/Repository/gpt/MoDA/moa-reproduciton/venv/lib/python3.11/site-packages/accelerate/accelerator.py:444: FutureWarning: Passing the following arguments to `Accelerator` is deprecated and will be removed in version 1.0 of Accelerate: dict_keys(['dispatch_batches', 'split_batches', 'even_batches', 'use_seedable_sampler']). Please pass an `accelerate.DataLoaderConfiguration` instead: \n",
      "dataloader_config = DataLoaderConfiguration(dispatch_batches=None, split_batches=False, even_batches=True, use_seedable_sampler=True)\n",
      "  warnings.warn(\n"
     ]
    }
   ],
   "execution_count": 13
  },
  {
   "metadata": {
    "jupyter": {
     "is_executing": true
    },
    "ExecuteTime": {
     "start_time": "2024-06-13T19:12:32.284878Z"
    }
   },
   "cell_type": "code",
   "source": [
    "trainer.train()\n",
    "model.save_adapter(\"./final_adapter\", \"moa_classifier\")"
   ],
   "id": "9ac0f20de1859160",
   "outputs": [
    {
     "data": {
      "text/plain": [
       "<IPython.core.display.HTML object>"
      ],
      "text/html": [
       "\n",
       "    <div>\n",
       "      \n",
       "      <progress value='32' max='5000' style='width:300px; height:20px; vertical-align: middle;'></progress>\n",
       "      [  32/5000 00:10 < 29:57, 2.76 it/s, Epoch 0.01/2]\n",
       "    </div>\n",
       "    <table border=\"1\" class=\"dataframe\">\n",
       "  <thead>\n",
       " <tr style=\"text-align: left;\">\n",
       "      <th>Step</th>\n",
       "      <th>Training Loss</th>\n",
       "    </tr>\n",
       "  </thead>\n",
       "  <tbody>\n",
       "  </tbody>\n",
       "</table><p>"
      ]
     },
     "metadata": {},
     "output_type": "display_data"
    }
   ],
   "execution_count": null
  },
  {
   "metadata": {
    "jupyter": {
     "is_executing": true
    }
   },
   "cell_type": "code",
   "source": "trainer.evaluate()",
   "id": "e894cc9cf6ddbec8",
   "outputs": [],
   "execution_count": null
  },
  {
   "metadata": {
    "jupyter": {
     "is_executing": true
    }
   },
   "cell_type": "code",
   "source": [
    "from transformers import TextClassificationPipeline\n",
    "\n",
    "classifier = TextClassificationPipeline(model=model, tokenizer=tokenizer, device=training_args.device.index)\n",
    "\n",
    "classifier(\"This is awesome!\")"
   ],
   "id": "e623736894716667",
   "outputs": [],
   "execution_count": null
  }
 ],
 "metadata": {
  "kernelspec": {
   "display_name": "Python 3",
   "language": "python",
   "name": "python3"
  },
  "language_info": {
   "codemirror_mode": {
    "name": "ipython",
    "version": 2
   },
   "file_extension": ".py",
   "mimetype": "text/x-python",
   "name": "python",
   "nbconvert_exporter": "python",
   "pygments_lexer": "ipython2",
   "version": "2.7.6"
  }
 },
 "nbformat": 4,
 "nbformat_minor": 5
}
