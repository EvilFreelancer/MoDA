{
 "cells": [
  {
   "cell_type": "code",
   "id": "initial_id",
   "metadata": {
    "collapsed": true,
    "ExecuteTime": {
     "end_time": "2024-06-13T21:05:12.219745Z",
     "start_time": "2024-06-13T21:05:12.216364Z"
    }
   },
   "source": [
    "DATASETS = [\n",
    "    {\n",
    "        \"id\": 0,\n",
    "        \"label\": \"finance\",\n",
    "        \"path\": \"gbharti/finance-alpaca\",\n",
    "        \"split\": \"train\",\n",
    "        \"xpath\": \"instruction\",\n",
    "    },\n",
    "    {\n",
    "        \"id\": 1,\n",
    "        \"label\": \"medicine\",\n",
    "        \"path\": \"lavita/ChatDoctor-HealthCareMagic-100k\",\n",
    "        \"split\": \"train\",\n",
    "        \"xpath\": \"input\",\n",
    "    },\n",
    "    {\n",
    "        \"id\": 2,\n",
    "        \"label\": \"leetcode\",\n",
    "        \"path\": [\"./oig/unified_merged_code_xp3.jsonl\"],\n",
    "        \"xpath\": \"text\"\n",
    "    },\n",
    "    {\n",
    "        \"id\": 3,\n",
    "        \"label\": \"exam\",\n",
    "        \"path\": [\n",
    "            # \"./oig/unified_grade_school_math_instructions.jsonl\",\n",
    "            \"./oig/unified_mathqa_flanv2_kojma_cot.jsonl\"\n",
    "        ],\n",
    "        \"xpath\": \"text\"\n",
    "    },\n",
    "    {\n",
    "        \"id\": 4,\n",
    "        \"label\": \"webgpt\",\n",
    "        \"path\": \"openai/webgpt_comparisons\",\n",
    "        \"split\": \"train\",\n",
    "        \"xpath\": \"question.full_text\",\n",
    "    },\n",
    "    {\n",
    "        \"id\": 5,\n",
    "        \"label\": \"gpt4tools\",\n",
    "        \"path\": \"taskydata/GPT4Tools\",\n",
    "        \"split\": \"train\",\n",
    "        \"xpath\": \"instruction\"\n",
    "    },\n",
    "    {\n",
    "        \"id\": 6,\n",
    "        \"label\": \"cot\",\n",
    "        \"path\": \"DataProvenanceInitiative/cot_submix_original\",\n",
    "        \"split\": \"train\",\n",
    "        \"xpath\": \"inputs\",\n",
    "    },\n",
    "    {\n",
    "        \"id\": 7,\n",
    "        \"label\": \"stackoverflow\",\n",
    "        \"path\": \"0x70DA/stackoverflow-chat-data\",\n",
    "        \"split\": \"train\",\n",
    "        \"xpath\": \"input\",\n",
    "    },\n",
    "]"
   ],
   "outputs": [],
   "execution_count": 32
  },
  {
   "metadata": {
    "ExecuteTime": {
     "end_time": "2024-06-13T21:05:20.289951Z",
     "start_time": "2024-06-13T21:05:12.220516Z"
    }
   },
   "cell_type": "code",
   "source": [
    "from datasets import load_dataset\n",
    "import os\n",
    "import json\n",
    "\n",
    "\n",
    "def save_to_jsonl(data, filename):\n",
    "    with open(filename, 'a') as f:\n",
    "        for record in data:\n",
    "            f.write(json.dumps(record) + '\\n')\n",
    "\n",
    "\n",
    "cache_path = './cache'\n",
    "batch_size = 1000\n",
    "\n",
    "for dataset in DATASETS:\n",
    "    print(dataset)\n",
    "    train_file = f\"./cache/{dataset['label']}_train.jsonl\"\n",
    "    eval_file = f\"./cache/{dataset['label']}_eval.jsonl\"\n",
    "\n",
    "    if os.path.exists(train_file):\n",
    "        continue\n",
    "\n",
    "    train_dataset = load_dataset(dataset['path'], split=f\"{dataset['split']}[:10000]\")\n",
    "    train_batch = []\n",
    "    for record in train_dataset:\n",
    "        train_batch.append(record)\n",
    "        if len(train_batch) >= batch_size:\n",
    "            save_to_jsonl(train_batch, train_file)\n",
    "            train_batch = []\n",
    "    if train_batch:\n",
    "        save_to_jsonl(train_batch, train_file)\n",
    "\n",
    "    eval_dataset = load_dataset(dataset['path'], split=f\"{dataset['split']}[10000:12000]\")\n",
    "    eval_batch = []\n",
    "    for record in eval_dataset:\n",
    "        eval_batch.append(record)\n",
    "        if len(eval_batch) >= batch_size:\n",
    "            save_to_jsonl(eval_batch, eval_file)\n",
    "            eval_batch = []\n",
    "    if eval_batch:\n",
    "        save_to_jsonl(eval_batch, eval_file)"
   ],
   "id": "67b86eced7328eb4",
   "outputs": [
    {
     "name": "stdout",
     "output_type": "stream",
     "text": [
      "{'id': 0, 'label': 'finance', 'path': 'gbharti/finance-alpaca', 'split': 'train', 'xpath': 'instruction'}\n",
      "{'id': 1, 'label': 'medicine', 'path': 'lavita/ChatDoctor-HealthCareMagic-100k', 'split': 'train', 'xpath': 'input'}\n",
      "{'id': 2, 'label': 'leetcode', 'path': ['./oig/unified_merged_code_xp3.jsonl'], 'xpath': 'text'}\n",
      "{'id': 3, 'label': 'exam', 'path': ['./oig/unified_mathqa_flanv2_kojma_cot.jsonl'], 'xpath': 'text'}\n",
      "{'id': 4, 'label': 'webgpt', 'path': 'openai/webgpt_comparisons', 'split': 'train', 'xpath': 'question.full_text'}\n",
      "{'id': 5, 'label': 'gpt4tools', 'path': 'taskydata/GPT4Tools', 'split': 'train', 'xpath': 'instruction'}\n",
      "{'id': 6, 'label': 'cot', 'path': 'DataProvenanceInitiative/cot_submix_original', 'split': 'train', 'xpath': 'inputs'}\n",
      "{'id': 7, 'label': 'stackoverflow', 'path': '0x70DA/stackoverflow-chat-data', 'split': 'train', 'xpath': 'input'}\n"
     ]
    }
   ],
   "execution_count": 33
  },
  {
   "metadata": {
    "ExecuteTime": {
     "end_time": "2024-06-13T21:05:21.910826Z",
     "start_time": "2024-06-13T21:05:20.290704Z"
    }
   },
   "cell_type": "code",
   "source": [
    "import json\n",
    "\n",
    "\n",
    "def extract_from_xpath(record, xpath):\n",
    "    keys = xpath.split('.')\n",
    "    value = record\n",
    "    for key in keys:\n",
    "        value = value.get(key, {})\n",
    "    return value\n",
    "\n",
    "\n",
    "unified_train_dataset = []\n",
    "unified_eval_dataset = []\n",
    "\n",
    "for dataset in DATASETS:\n",
    "    print(dataset)\n",
    "    train_file = f\"./cache/{dataset['label']}_train.jsonl\"\n",
    "    eval_file = f\"./cache/{dataset['label']}_eval.jsonl\"\n",
    "\n",
    "\n",
    "    def process_file(file_path, dataset, output_list):\n",
    "        with open(file_path, 'r') as f:\n",
    "            for line in f:\n",
    "                record = json.loads(line)\n",
    "                extracted_value = extract_from_xpath(record, dataset['xpath'])\n",
    "                if extracted_value:\n",
    "                    output_list.append({\n",
    "                        \"labels\": dataset['id'],\n",
    "                        # \"labels\": dataset['label'],\n",
    "                        \"text\": extracted_value\n",
    "                    })\n",
    "\n",
    "\n",
    "    process_file(train_file, dataset, unified_train_dataset)\n",
    "    process_file(eval_file, dataset, unified_eval_dataset)\n",
    "\n",
    "# Save the unified datasets\n",
    "unified_train_dataset_file = \"./cache/unified_train.jsonl\"\n",
    "unified_eval_dataset_file = \"./cache/unified_eval.jsonl\"\n",
    "save_to_jsonl(unified_train_dataset, unified_train_dataset_file)\n",
    "save_to_jsonl(unified_eval_dataset, unified_eval_dataset_file)\n",
    "\n",
    "# Print out the sizes\n",
    "print(f\"Unified train dataset size: {len(unified_train_dataset)}\")\n",
    "print(f\"Unified eval dataset size: {len(unified_eval_dataset)}\")"
   ],
   "id": "ee7791d675837b80",
   "outputs": [
    {
     "name": "stdout",
     "output_type": "stream",
     "text": [
      "{'id': 0, 'label': 'finance', 'path': 'gbharti/finance-alpaca', 'split': 'train', 'xpath': 'instruction'}\n",
      "{'id': 1, 'label': 'medicine', 'path': 'lavita/ChatDoctor-HealthCareMagic-100k', 'split': 'train', 'xpath': 'input'}\n",
      "{'id': 2, 'label': 'leetcode', 'path': ['./oig/unified_merged_code_xp3.jsonl'], 'xpath': 'text'}\n",
      "{'id': 3, 'label': 'exam', 'path': ['./oig/unified_mathqa_flanv2_kojma_cot.jsonl'], 'xpath': 'text'}\n",
      "{'id': 4, 'label': 'webgpt', 'path': 'openai/webgpt_comparisons', 'split': 'train', 'xpath': 'question.full_text'}\n",
      "{'id': 5, 'label': 'gpt4tools', 'path': 'taskydata/GPT4Tools', 'split': 'train', 'xpath': 'instruction'}\n",
      "{'id': 6, 'label': 'cot', 'path': 'DataProvenanceInitiative/cot_submix_original', 'split': 'train', 'xpath': 'inputs'}\n",
      "{'id': 7, 'label': 'stackoverflow', 'path': '0x70DA/stackoverflow-chat-data', 'split': 'train', 'xpath': 'input'}\n",
      "Unified train dataset size: 79998\n",
      "Unified eval dataset size: 16000\n"
     ]
    }
   ],
   "execution_count": 34
  }
 ],
 "metadata": {
  "kernelspec": {
   "display_name": "Python 3",
   "language": "python",
   "name": "python3"
  },
  "language_info": {
   "codemirror_mode": {
    "name": "ipython",
    "version": 2
   },
   "file_extension": ".py",
   "mimetype": "text/x-python",
   "name": "python",
   "nbconvert_exporter": "python",
   "pygments_lexer": "ipython2",
   "version": "2.7.6"
  }
 },
 "nbformat": 4,
 "nbformat_minor": 5
}
