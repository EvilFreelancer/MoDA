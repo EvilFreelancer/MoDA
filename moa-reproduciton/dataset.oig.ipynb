{
 "cells": [
  {
   "cell_type": "code",
   "id": "initial_id",
   "metadata": {
    "collapsed": true
   },
   "source": [
    "DATASETS = [\n",
    "    {\n",
    "        \"label\": \"leetcode\",\n",
    "        \"path\": [\"./oig/unified_merged_code_xp3.jsonl\"],\n",
    "        \"xpath\": \"text\"\n",
    "    },\n",
    "    {\n",
    "        \"label\": \"exam\",\n",
    "        \"path\": [\n",
    "            \"./oig/unified_grade_school_math_instructions.jsonl\",\n",
    "            \"./oig/unified_mathqa_flanv2_kojma_cot.jsonl\"\n",
    "        ],\n",
    "        \"xpath\": \"text\"\n",
    "    },\n",
    "]"
   ],
   "outputs": [],
   "execution_count": null
  },
  {
   "metadata": {},
   "cell_type": "code",
   "source": [
    "import os\n",
    "import json\n",
    "from tqdm import tqdm\n",
    "from datasets import load_dataset\n",
    "\n",
    "\n",
    "def save_to_jsonl(data, filename):\n",
    "    with open(filename, 'a') as f:\n",
    "        for record in data:\n",
    "            f.write(json.dumps(record) + '\\n')\n",
    "\n",
    "\n",
    "def process_jsonl_files(file_paths, xpath, max_records):\n",
    "    accumulated_records = []\n",
    "    for file_path in file_paths:\n",
    "        with open(file_path, 'r') as f:\n",
    "            for line in tqdm(f, desc=f\"Processing {file_path}\"):\n",
    "                record = json.loads(line)\n",
    "                accumulated_records.append(record)\n",
    "                if len(accumulated_records) >= max_records:\n",
    "                    break\n",
    "        if len(accumulated_records) >= max_records:\n",
    "            break\n",
    "    return accumulated_records\n",
    "\n",
    "\n",
    "cache_path = './cache'\n",
    "max_records = 12000\n",
    "\n",
    "for dataset in DATASETS:\n",
    "    print(dataset)\n",
    "    train_file = f\"./cache/{dataset['label']}_train.jsonl\"\n",
    "    eval_file = f\"./cache/{dataset['label']}_eval.jsonl\"\n",
    "\n",
    "    if os.path.exists(train_file) and os.path.exists(eval_file):\n",
    "        continue\n",
    "\n",
    "    # Process JSONL files and accumulate records\n",
    "    raw_dataset = load_dataset(\"json\", split=\"train\", data_files=dataset['path']).shuffle(seed=42)\n",
    "    limited_dataset = raw_dataset.select(range(max_records)).to_pandas()\n",
    "\n",
    "    # Split the accumulated records into train and eval\n",
    "    train_dataset = limited_dataset.iloc[:10000].to_dict(orient='records')\n",
    "    eval_dataset = limited_dataset.iloc[10000:12000].to_dict(orient='records')\n",
    "\n",
    "    # Save the datasets to JSONL files\n",
    "    save_to_jsonl(train_dataset, train_file)\n",
    "    save_to_jsonl(eval_dataset, eval_file)\n",
    "\n",
    "    print(f\"Saved {len(train_dataset)} records to {train_file}\")\n",
    "    print(f\"Saved {len(eval_dataset)} records to {eval_file}\")"
   ],
   "id": "67b86eced7328eb4",
   "outputs": [],
   "execution_count": null
  }
 ],
 "metadata": {
  "kernelspec": {
   "display_name": "Python 3",
   "language": "python",
   "name": "python3"
  },
  "language_info": {
   "codemirror_mode": {
    "name": "ipython",
    "version": 2
   },
   "file_extension": ".py",
   "mimetype": "text/x-python",
   "name": "python",
   "nbconvert_exporter": "python",
   "pygments_lexer": "ipython2",
   "version": "2.7.6"
  }
 },
 "nbformat": 4,
 "nbformat_minor": 5
}
