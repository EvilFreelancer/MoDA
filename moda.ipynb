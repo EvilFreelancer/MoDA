{
 "cells": [
  {
   "metadata": {
    "ExecuteTime": {
     "end_time": "2024-06-09T11:15:09.466369Z",
     "start_time": "2024-06-09T11:15:09.460287Z"
    }
   },
   "cell_type": "code",
   "source": [
    "import yaml\n",
    "\n",
    "config = yaml.safe_load(open('config.yml'))"
   ],
   "id": "initial_id",
   "outputs": [],
   "execution_count": 22
  },
  {
   "metadata": {
    "ExecuteTime": {
     "end_time": "2024-06-09T11:15:20.090830Z",
     "start_time": "2024-06-09T11:15:09.467718Z"
    }
   },
   "cell_type": "code",
   "source": [
    "from moda.models import load_model\n",
    "\n",
    "router_model, router_tokenizer = load_model(config[\"router\"][\"name\"], config[\"router\"][\"load_in_8bit\"])\n",
    "router_terminators = [\n",
    "    router_tokenizer.eos_token_id,\n",
    "    router_tokenizer.convert_tokens_to_ids(\"<|eot_id|>\")\n",
    "]\n",
    "\n",
    "socket_model, socket_tokenizer = load_model(config[\"socket\"][\"name\"], config[\"socket\"][\"load_in_8bit\"])\n",
    "socket_terminators = [\n",
    "    socket_tokenizer.eos_token_id,\n",
    "    socket_tokenizer.convert_tokens_to_ids(\"<|im_end|>\"),\n",
    "    socket_tokenizer.convert_tokens_to_ids(\"<|endoftext|>\")\n",
    "]"
   ],
   "id": "2f69d06ac99692cc",
   "outputs": [
    {
     "name": "stderr",
     "output_type": "stream",
     "text": [
      "`low_cpu_mem_usage` was None, now set to True since model is quantized.\n"
     ]
    },
    {
     "data": {
      "text/plain": [
       "Loading checkpoint shards:   0%|          | 0/4 [00:00<?, ?it/s]"
      ],
      "application/vnd.jupyter.widget-view+json": {
       "version_major": 2,
       "version_minor": 0,
       "model_id": "713ce2aee7ee4464a5a1482c58aa745a"
      }
     },
     "metadata": {},
     "output_type": "display_data"
    },
    {
     "name": "stderr",
     "output_type": "stream",
     "text": [
      "Special tokens have been added in the vocabulary, make sure the associated word embeddings are fine-tuned or trained.\n",
      "`low_cpu_mem_usage` was None, now set to True since model is quantized.\n"
     ]
    },
    {
     "data": {
      "text/plain": [
       "Loading checkpoint shards:   0%|          | 0/2 [00:00<?, ?it/s]"
      ],
      "application/vnd.jupyter.widget-view+json": {
       "version_major": 2,
       "version_minor": 0,
       "model_id": "237aacf7e2614ba280222275b738c16f"
      }
     },
     "metadata": {},
     "output_type": "display_data"
    }
   ],
   "execution_count": 23
  },
  {
   "metadata": {
    "ExecuteTime": {
     "end_time": "2024-06-09T11:15:20.093232Z",
     "start_time": "2024-06-09T11:15:20.091506Z"
    }
   },
   "cell_type": "code",
   "source": [
    "from moda.conversation import Conversation\n",
    "from moda.functions import get_functions_metadata\n",
    "\n",
    "functions_metadata = get_functions_metadata(config['functions'])\n",
    "conversation = Conversation(functions=functions_metadata)"
   ],
   "id": "780ecd8530944100",
   "outputs": [],
   "execution_count": 24
  },
  {
   "metadata": {
    "ExecuteTime": {
     "end_time": "2024-06-09T11:15:20.100291Z",
     "start_time": "2024-06-09T11:15:20.093903Z"
    }
   },
   "cell_type": "code",
   "source": [
    "request = \"Почему трава зелёная\"\n",
    "# request = \"What is EBITDA?\"\n",
    "\n",
    "conversation.add_user_message(request)\n",
    "\n",
    "conversation.messages"
   ],
   "id": "8650a63df6de77d2",
   "outputs": [
    {
     "data": {
      "text/plain": [
       "[{'role': 'system',\n",
       "  'content': 'You are a helpful assistant with access to the following functions: \\n [{\\'type\\': \\'function\\', \\'function\\': {\\'name\\': \\'IlyaGusev/saiga2_7b_lora\\', \\'description\\': \\'This is the Saiga adapter trained on multiple russian datasets.\\\\nUse this adapter to answer questions on Russian.\\\\n\\', \\'parameters\\': {\\'type\\': \\'object\\', \\'properties\\': {\\'question\\': {\\'type\\': \\'string\\', \\'description\\': \\'Text of question which user asked\\'}}, \\'required\\': [\\'question\\']}}}, {\\'type\\': \\'function\\', \\'function\\': {\\'name\\': \\'briefai/LongShort-Llama-2-7B\\', \\'description\\': \\'Is a large language model fine-tuned on earnings call documents to extract financial KPIs from the earnings call documents.\\\\nUse this adapter when users need to analyze financial data.\\\\n\\', \\'parameters\\': {\\'type\\': \\'object\\', \\'properties\\': {\\'question\\': {\\'type\\': \\'string\\', \\'description\\': \\'Text of question which user asked\\'}}, \\'required\\': [\\'question\\']}}}]\\n\\nTo use these functions respond with:\\n<functioncall> {\"name\": \"function_name\"} </functioncall>\\n\\nEdge cases you must handle:\\n - If there are no functions that match the user request, you will respond politely that you cannot help.'},\n",
       " {'role': 'user', 'content': 'Почему трава зелёная'}]"
      ]
     },
     "execution_count": 25,
     "metadata": {},
     "output_type": "execute_result"
    }
   ],
   "execution_count": 25
  },
  {
   "metadata": {
    "ExecuteTime": {
     "end_time": "2024-06-09T11:15:21.284491Z",
     "start_time": "2024-06-09T11:15:20.100718Z"
    }
   },
   "cell_type": "code",
   "source": [
    "from moda.models import get_input_ids, trigger_model\n",
    "\n",
    "router_input_ids = get_input_ids(router_tokenizer, conversation.messages).to(router_model.device)\n",
    "print(router_input_ids)\n",
    "\n",
    "router_result = trigger_model(router_input_ids, router_terminators, router_model, router_tokenizer)\n",
    "print(router_result)\n",
    "\n",
    "conversation.add_bot_message(router_result)"
   ],
   "id": "9711919e1e6f45e9",
   "outputs": [
    {
     "name": "stdout",
     "output_type": "stream",
     "text": [
      "tensor([[128000, 128006,   9125, 128007,    271,   2675,    527,    264,  11190,\n",
      "          18328,    449,   2680,    311,    279,   2768,   5865,     25,    720,\n",
      "          62208,   1337,   1232,    364,   1723,    518,    364,   1723,   1232,\n",
      "           5473,    609,   1232,    364,     40,  97199,     38,    817,     85,\n",
      "           2754,     64,  16960,     17,     62,     22,     65,    918,   6347,\n",
      "            518,    364,   4789,   1232,    364,   2028,    374,    279,  16233,\n",
      "          16960,  13253,  16572,    389,   5361,  64245,  30525,   7255,     77,\n",
      "          10464,    420,  13253,    311,   4320,   4860,    389,   8690,   7255,\n",
      "             77,    518,    364,  14105,   1232,   5473,   1337,   1232,    364,\n",
      "           1735,    518,    364,  13495,   1232,   5473,   7998,   1232,   5473,\n",
      "           1337,   1232,    364,    928,    518,    364,   4789,   1232,    364,\n",
      "           1199,    315,   3488,    902,   1217,   4691,   8439,   2186,    364,\n",
      "           6413,   1232,   2570,   7998,    663,   3500,   2186,   5473,   1337,\n",
      "           1232,    364,   1723,    518,    364,   1723,   1232,   5473,    609,\n",
      "           1232,    364,   6796,   2192,     14,   6720,  12755,   8288,  81101,\n",
      "             12,     17,     12,     22,     33,    518,    364,   4789,   1232,\n",
      "            364,   3957,    264,   3544,   4221,   1646,   7060,   2442,  49983,\n",
      "            389,  24608,   1650,   9477,    311,   8819,   6020,    735,   1932,\n",
      "             82,    505,    279,  24608,   1650,   9477,   7255,     77,  10464,\n",
      "            420,  13253,    994,   3932,   1205,    311,  24564,   6020,    828,\n",
      "           7255,     77,    518,    364,  14105,   1232,   5473,   1337,   1232,\n",
      "            364,   1735,    518,    364,  13495,   1232,   5473,   7998,   1232,\n",
      "           5473,   1337,   1232,    364,    928,    518,    364,   4789,   1232,\n",
      "            364,   1199,    315,   3488,    902,   1217,   4691,   8439,   2186,\n",
      "            364,   6413,   1232,   2570,   7998,    663,  76642,   2595,   1271,\n",
      "           1005,   1521,   5865,   6013,    449,    512,     27,   1723,   6797,\n",
      "             29,   5324,    609,    794,    330,   1723,   1292,   9388,    694,\n",
      "           1723,   6797,   1363,  11918,   5157,    499,   2011,   3790,    512,\n",
      "            482,   1442,   1070,    527,    912,   5865,    430,   2489,    279,\n",
      "           1217,   1715,     11,    499,    690,   6013,  81867,    430,    499,\n",
      "           4250,   1520,     13, 128009, 128006,    882, 128007,    271,  17279,\n",
      "          38438, 103199, 105760,   1506, 119327,  45122,  44858, 128009, 128006,\n",
      "          78191, 128007,    271]], device='cuda:0')\n",
      "<functioncall> {\"name\": \"IlyaGusev/saiga2_7b_lora\"} </functioncall>\n"
     ]
    }
   ],
   "execution_count": 26
  },
  {
   "metadata": {
    "ExecuteTime": {
     "end_time": "2024-06-09T11:15:25.268335Z",
     "start_time": "2024-06-09T11:15:21.285063Z"
    }
   },
   "cell_type": "code",
   "source": [
    "from moda.functions import has_function_call, extract_function_call_from_string\n",
    "from moda.models import get_adapter, load_adapter\n",
    "\n",
    "function_call = None\n",
    "# If response has function call\n",
    "if has_function_call(router_result):\n",
    "    # Extract name of adapter from functino call\n",
    "    function_call = extract_function_call_from_string(router_result)\n",
    "    print(function_call)\n",
    "\n",
    "    # Get details about adapter from library\n",
    "    adapter = get_adapter(function_call[\"name\"], config[\"functions\"])\n",
    "    # print(adapter)\n",
    "\n",
    "    # Assign adapter to socket model\n",
    "    adapter_model, adapter_tokenizer = load_adapter(socket_model, adapter[\"name\"])\n",
    "    # print(adapter_model, adapter_tokenizer)\n",
    "\n",
    "    # Prepare messages to adapter model\n",
    "    messages = [\n",
    "        {\"role\": \"system\", \"content\": adapter[\"prompt\"]},\n",
    "        {\"role\": \"user\", \"content\": conversation.get_last_message()},\n",
    "    ]\n",
    "\n",
    "    # Send user question to model\n",
    "    socket_input_ids = socket_tokenizer.apply_chat_template(\n",
    "        messages,\n",
    "        chat_template=adapter['chat_template'],\n",
    "        add_generation_prompt=True,\n",
    "        return_tensors=\"pt\"\n",
    "    ).to(socket_model.device)\n",
    "    print(socket_input_ids)\n",
    "\n",
    "    socket_terminators = [\n",
    "        socket_tokenizer.eos_token_id,\n",
    "        socket_tokenizer.convert_tokens_to_ids(\"</s>\"),\n",
    "        socket_tokenizer.convert_tokens_to_ids(\"<|endoftext|>\")\n",
    "    ]\n",
    "\n",
    "    socket_result = trigger_model(socket_input_ids, socket_terminators, adapter_model, adapter_tokenizer)\n",
    "    print(socket_result)"
   ],
   "id": "1e96e8623d0b53e",
   "outputs": [
    {
     "name": "stdout",
     "output_type": "stream",
     "text": [
      "{'name': 'IlyaGusev/saiga2_7b_lora'}\n",
      "tensor([[    1,  5205,    13,  3492,   263,  8444, 20255,   363, 22862,  5155,\n",
      "           373, 10637, 29889,    13,     2,    13,     1,  1792,    13, 20093,\n",
      "          1093,  1805, 12550,   846, 24263, 13459,  3162,     2,    13,     1,\n",
      "           465, 22137,    13]], device='cuda:0')\n",
      "Зелёная трава - это символ весны, пробуждения природы, зеленого роста. Зелёный цвет ассоциируется с радостью, благополучием, здоровьем.\n"
     ]
    }
   ],
   "execution_count": 27
  }
 ],
 "metadata": {
  "kernelspec": {
   "display_name": "Python 3",
   "language": "python",
   "name": "python3"
  },
  "language_info": {
   "codemirror_mode": {
    "name": "ipython",
    "version": 2
   },
   "file_extension": ".py",
   "mimetype": "text/x-python",
   "name": "python",
   "nbconvert_exporter": "python",
   "pygments_lexer": "ipython2",
   "version": "2.7.6"
  }
 },
 "nbformat": 4,
 "nbformat_minor": 5
}
