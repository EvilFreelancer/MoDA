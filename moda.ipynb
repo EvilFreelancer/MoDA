{
 "cells": [
  {
   "metadata": {},
   "cell_type": "code",
   "source": [
    "import yaml\n",
    "\n",
    "config = yaml.safe_load(open('config.yml'))"
   ],
   "id": "initial_id",
   "execution_count": null,
   "outputs": []
  },
  {
   "metadata": {},
   "cell_type": "code",
   "source": [
    "from moda.models import load_model\n",
    "\n",
    "router_model, router_tokenizer = load_model(config[\"router\"][\"name\"], config[\"router\"][\"load_in_8bit\"])\n",
    "router_terminators = [\n",
    "    router_tokenizer.eos_token_id,\n",
    "    router_tokenizer.convert_tokens_to_ids(\"<|eot_id|>\")\n",
    "]\n",
    "\n",
    "socket_model, socket_tokenizer = load_model(config[\"socket\"][\"name\"], config[\"socket\"][\"load_in_8bit\"])\n",
    "socket_terminators = [\n",
    "    socket_tokenizer.eos_token_id,\n",
    "    socket_tokenizer.convert_tokens_to_ids(\"<|im_end|>\"),\n",
    "    socket_tokenizer.convert_tokens_to_ids(\"<|endoftext|>\")\n",
    "]"
   ],
   "id": "2f69d06ac99692cc",
   "execution_count": null,
   "outputs": []
  },
  {
   "metadata": {},
   "cell_type": "code",
   "source": [
    "from moda.conversation import Conversation\n",
    "from moda.functions import get_functions_metadata\n",
    "\n",
    "functions_metadata = get_functions_metadata(config['functions'])\n",
    "conversation = Conversation(functions=functions_metadata)"
   ],
   "id": "780ecd8530944100",
   "execution_count": null,
   "outputs": []
  },
  {
   "metadata": {},
   "cell_type": "code",
   "source": [
    "request = \"Почему трава зелёная\"\n",
    "# request = \"What is EBITDA?\"\n",
    "\n",
    "conversation.add_user_message(request)\n",
    "\n",
    "conversation.messages"
   ],
   "id": "8650a63df6de77d2",
   "execution_count": null,
   "outputs": []
  },
  {
   "metadata": {},
   "cell_type": "code",
   "source": [
    "from moda.models import get_input_ids, trigger_model\n",
    "\n",
    "router_input_ids = get_input_ids(router_tokenizer, conversation.messages).to(router_model.device)\n",
    "print(router_input_ids)\n",
    "\n",
    "router_result = trigger_model(router_input_ids, router_terminators, router_model, router_tokenizer)\n",
    "print(router_result)\n",
    "\n",
    "conversation.add_bot_message(router_result)"
   ],
   "id": "9711919e1e6f45e9",
   "execution_count": null,
   "outputs": []
  },
  {
   "metadata": {},
   "cell_type": "code",
   "source": [
    "from moda.functions import has_function_call, extract_function_call_from_string\n",
    "from moda.models import get_adapter, load_adapter\n",
    "\n",
    "function_call = None\n",
    "# If response has function call\n",
    "if has_function_call(router_result):\n",
    "    # Extract name of adapter from functino call\n",
    "    function_call = extract_function_call_from_string(router_result)\n",
    "    print(function_call)\n",
    "\n",
    "    # Get details about adapter from library\n",
    "    adapter = get_adapter(function_call[\"name\"], config[\"functions\"])\n",
    "    # print(adapter)\n",
    "\n",
    "    # Assign adapter to socket model\n",
    "    adapter_model, adapter_tokenizer = load_adapter(socket_model, adapter[\"name\"])\n",
    "    # print(adapter_model, adapter_tokenizer)\n",
    "\n",
    "    # Prepare messages to adapter model\n",
    "    messages = [\n",
    "        {\"role\": \"system\", \"content\": adapter[\"prompt\"]},\n",
    "        {\"role\": \"user\", \"content\": conversation.get_last_message()},\n",
    "    ]\n",
    "\n",
    "    # Send user question to model\n",
    "    socket_input_ids = socket_tokenizer.apply_chat_template(\n",
    "        messages,\n",
    "        chat_template=adapter['chat_template'],\n",
    "        add_generation_prompt=True,\n",
    "        return_tensors=\"pt\"\n",
    "    ).to(socket_model.device)\n",
    "    print(socket_input_ids)\n",
    "\n",
    "    socket_terminators = [\n",
    "        socket_tokenizer.eos_token_id,\n",
    "        socket_tokenizer.convert_tokens_to_ids(\"</s>\"),\n",
    "        socket_tokenizer.convert_tokens_to_ids(\"<|endoftext|>\")\n",
    "    ]\n",
    "\n",
    "    socket_result = trigger_model(socket_input_ids, socket_terminators, adapter_model, adapter_tokenizer)\n",
    "    print(socket_result)"
   ],
   "id": "1e96e8623d0b53e",
   "execution_count": null,
   "outputs": []
  }
 ],
 "metadata": {
  "kernelspec": {
   "display_name": "Python 3",
   "language": "python",
   "name": "python3"
  },
  "language_info": {
   "codemirror_mode": {
    "name": "ipython",
    "version": 2
   },
   "file_extension": ".py",
   "mimetype": "text/x-python",
   "name": "python",
   "nbconvert_exporter": "python",
   "pygments_lexer": "ipython2",
   "version": "2.7.6"
  }
 },
 "nbformat": 4,
 "nbformat_minor": 5
}
